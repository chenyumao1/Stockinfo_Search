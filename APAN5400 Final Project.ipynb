{
 "cells": [
  {
   "cell_type": "markdown",
   "metadata": {},
   "source": [
    "APAN 5400 Final Project"
   ]
  },
  {
   "cell_type": "code",
   "execution_count": null,
   "metadata": {},
   "outputs": [],
   "source": [
    "# Packages\n",
    "import console\n",
    "import psycopg\n",
    "import requests\n",
    "from datetime import datetime, timedelta"
   ]
  },
  {
   "cell_type": "code",
   "execution_count": 2,
   "metadata": {},
   "outputs": [],
   "source": [
    "# Muted this code for now, because we don't need to use it every time \n",
    "\n",
    "# import requests\n",
    "# from pymongo import MongoClient\n",
    "# from datetime import datetime, timedelta\n",
    "\n",
    "# client = MongoClient('localhost', 27017)\n",
    "# db = client.apan5400\n",
    "# news_collection = db['news_data']\n",
    "\n",
    "# def fetch_and_store_news(api_key, companies):\n",
    "#     for company in companies:\n",
    "#         period_months = 1  # longest time period we can get with free ap \n",
    "#         start_date = datetime.today() - timedelta(days=30 * period_months)\n",
    "#         start_date_str = start_date.strftime('%Y-%m-%d')\n",
    "\n",
    "#         url = f\"https://newsapi.org/v2/everything?q={company}&from={start_date_str}&sortBy=popularity&apiKey={api_key}\"\n",
    "#         response = requests.get(url)\n",
    "#         if response.ok:\n",
    "#             news_data = response.json()['articles']\n",
    "#             for article in news_data:\n",
    "#                 # make sure title exist and is not null\n",
    "#                 if article.get('title') and \"Removed\" not in article['title']:\n",
    "#                     # make sure exist\n",
    "#                     article['author'] = article.get('author', \"Author information not available\")\n",
    "#                     article['description'] = article.get('description', \"Description not available\")\n",
    "#                     article['url'] = article.get('url', \"URL not available\")\n",
    "#                     article['publishedAt'] = article.get('publishedAt', \"publishedAt not available\")\n",
    "#                     # store news into MongoDB\n",
    "#                     news_collection.update_one({'url': article['url']}, {'$set': article}, upsert=True)\n",
    "#         else:\n",
    "#             print(f\"Failed to fetch news for {company}\")\n",
    "\n",
    "# api_key = '3bbf923e85b640a0818dae15b608d4f5'  # our API key \n",
    "# companies = [\n",
    "#     \"Apple\", \"Google\", \"Microsoft\", \"Amazon\", \"Facebook\",\n",
    "#     \"Tesla\", \"Alibaba\", \"Samsung\", \"Intel\", \"IBM\",\n",
    "#     \"Oracle\", \"Cisco\", \"Visa\", \"MasterCard\", \"PayPal\",\n",
    "#     \"Adobe\", \"Salesforce\", \"Netflix\", \"Walmart\", \"Disney\",\n",
    "#     \"Nike\", \"Coca-Cola\", \"Pepsi\", \"McDonald's\", \"Starbucks\",\n",
    "#     \"General Motors\", \"Ford\", \"AT&T\", \"Verizon\", \"ExxonMobil\",\n",
    "#     \"Chevron\", \"Goldman Sachs\", \"Morgan Stanley\", \"JP Morgan Chase\", \"Citigroup\",\n",
    "#     \"Bank of America\", \"HSBC\", \"Barclays\", \"Royal Dutch Shell\", \"BP\",\n",
    "#     \"Siemens\", \"Bayer\", \"Airbus\", \"Boeing\", \"Philips\",\n",
    "#     \"Sony\", \"Panasonic\", \"LG\", \"Huawei\", \"Xiaomi\"\n",
    "# ] # insert as many as you want \n",
    "\n",
    "# fetch_and_store_news(api_key, companies)"
   ]
  },
  {
   "cell_type": "code",
   "execution_count": 3,
   "metadata": {},
   "outputs": [],
   "source": [
    "# Packages\n",
    "from flask import Flask, jsonify, request, Response\n",
    "from flask import Flask, session, redirect, url_for\n",
    "from pymongo import MongoClient\n",
    "from bson import json_util\n",
    "from flask import Flask, jsonify, request, render_template\n",
    "import json\n",
    "from flask_session import Session \n",
    "\n",
    "app = Flask(__name__)\n",
    "\n",
    "app.config['SESSION_TYPE'] = 'filesystem'\n",
    "Session(app)\n",
    "\n",
    "# connecting to the mongoDB \n",
    "client = MongoClient('localhost', 27017)\n",
    "db = client.apan5400\n",
    "news_collection = db['news_data']\n",
    "\n",
    "@app.route('/')\n",
    "def index():\n",
    "    return render_template('index.html')"
   ]
  },
  {
   "cell_type": "code",
   "execution_count": 4,
   "metadata": {},
   "outputs": [],
   "source": [
    "# connecting to the SQL database \n",
    "def get_db_connection():\n",
    "    conn = psycopg.connect(\n",
    "        host=\"localhost\",\n",
    "        port='5432',\n",
    "        dbname=\"APAN5400\",\n",
    "        user=\"postgres\",\n",
    "        password=\"123\")\n",
    "    return conn"
   ]
  },
  {
   "cell_type": "code",
   "execution_count": 5,
   "metadata": {},
   "outputs": [],
   "source": [
    "# @app.route('/login', methods=['GET', 'POST'])\n",
    "# def login():\n",
    "#     if request.method == 'POST':\n",
    "#         username = request.form['username']\n",
    "#         conn = get_db_connection()\n",
    "#         cursor = conn.cursor()\n",
    "#         cursor.execute(\"SELECT * FROM users WHERE username = %s\", (username,))\n",
    "#         if cursor.fetchone():\n",
    "#             session['username'] = username\n",
    "#             return redirect(url_for('search'))\n",
    "#         else:\n",
    "#             return \"Username not found\", 404\n",
    "#     return render_template('login.html')\n",
    "\n",
    "# login program\n",
    "@app.route('/login', methods=['GET', 'POST'])\n",
    "def login():\n",
    "    if request.method == 'POST':\n",
    "        data = request.get_json()\n",
    "        username = data.get('username')\n",
    "        print(username)\n",
    "        \n",
    "        if not username:\n",
    "            return jsonify({\"error\": \"Username is required\"}), 400\n",
    "\n",
    "        conn = get_db_connection()\n",
    "        cursor = conn.cursor()\n",
    "\n",
    "        try:\n",
    "            cursor.execute(\"SELECT user_id FROM users WHERE username = %s\", (username,))\n",
    "            user_id_result = cursor.fetchone()\n",
    "            if user_id_result:\n",
    "                user_id = user_id_result[0]\n",
    "                print(user_id)\n",
    "\n",
    "                session['username'] = username\n",
    "                return jsonify({\"success\": True}), 200\n",
    "            else:\n",
    "                return jsonify({\"error\": \"User does not exist\"}), 404\n",
    "\n",
    "        except Exception as e: \n",
    "            conn.rollback()\n",
    "            return jsonify({\"error\": str(e)}), 500\n",
    "        finally:\n",
    "            cursor.close()\n",
    "            conn.close()\n",
    "\n",
    "    return render_template('login.html')"
   ]
  },
  {
   "cell_type": "code",
   "execution_count": 6,
   "metadata": {},
   "outputs": [],
   "source": [
    "@app.route('/info')\n",
    "def info():\n",
    "#     if 'username' not in session:\n",
    "#         return redirect(url_for('login'))\n",
    "    return render_template('info.html')"
   ]
  },
  {
   "cell_type": "code",
   "execution_count": 7,
   "metadata": {},
   "outputs": [],
   "source": [
    "# call the news_api key to obtain the news \n",
    "from datetime import datetime, timedelta\n",
    "\n",
    "def get_news_data(search_keyword, period='1'):\n",
    "    period_months = int(period)\n",
    "    start_date = datetime.today() - timedelta(days=30 * period_months)\n",
    "    start_date_str = start_date.strftime('%Y-%m-%d')\n",
    "\n",
    "    api_key = '3bbf923e85b640a0818dae15b608d4f5' \n",
    "    url = f\"https://newsapi.org/v2/everything?q={search_keyword}&from={start_date_str}&sortBy=popularity&apiKey={api_key}\"\n",
    "    response = requests.get(url)\n",
    "    if response.ok:\n",
    "        news_data = response.json()['articles']\n",
    "        for article in news_data:\n",
    "            if \"Removed\" not in article['title']:\n",
    "                # make sure it exist\n",
    "                article['author'] = article.get('author', \"Author information not available\")\n",
    "                article['description'] = article.get('description', \"Description not available\")\n",
    "                article['url'] = article.get('url', \"URL not available\")\n",
    "                article['publishedAt'] = article.get('publishedAt', \"publishedAt not available\")\n",
    "                # store news into MongoDB\n",
    "                news_collection.update_one({'url': article['url']}, {'$set': article}, upsert=True)\n",
    "    else:\n",
    "        print(\"Failed to fetch news data\")\n",
    "        return []\n",
    "\n",
    "    # draw all the news from the database\n",
    "    all_news = list(news_collection.find({'title': {'$regex': search_keyword, '$options': 'i'}}))\n",
    "    return all_news  "
   ]
  },
  {
   "cell_type": "code",
   "execution_count": 8,
   "metadata": {},
   "outputs": [],
   "source": [
    "@app.route('/search')\n",
    "def search():\n",
    "        if 'username' not in session:\n",
    "            # return redirect(url_for('login'))\n",
    "            print(\"failed\")\n",
    "        return render_template('search.html')\n",
    "\n",
    "# filter by publisher\n",
    "@app.route('/filter_news_by_publisher', methods=['POST'])\n",
    "def filter_news_by_publisher():\n",
    "    publisher = request.form.get('publisher')\n",
    "    company_name = request.form.get('company_name')\n",
    "    period = request.form.get('period', '1')\n",
    "\n",
    "    if company_name:\n",
    "        news_data = get_news_data(company_name, period)\n",
    "\n",
    "        if news_data:\n",
    "            filtered_news = [news for news in news_data if news.get('source', {}).get('name') == publisher]\n",
    "            ids_to_find = [news['_id'] for news in filtered_news]\n",
    "            query = {'_id': {'$in': ids_to_find}}\n",
    "\n",
    "            cursor = news_collection.find(query)\n",
    "            list_cursor = list(cursor)\n",
    "            response = jsonify(json.loads(json_util.dumps(list_cursor)))\n",
    "\n",
    "            return response, 200\n",
    "        else:\n",
    "            return jsonify({\"error\": \"No stock data found\"}), 404\n",
    "    else:\n",
    "        return jsonify({\"error\": \"Stock code is required\"}), 400\n",
    "\n",
    "# save search_history and insert into SQL database \n",
    "@app.route('/save_search_history', methods=['POST'])\n",
    "def save_search_history():\n",
    "    if 'username' in session:\n",
    "        username = session['username']\n",
    "        company_name = request.form.get('company_name')\n",
    "        period = request.form.get('period')\n",
    "        search_date = datetime.now().strftime('%Y-%m-%d')\n",
    "        conn = get_db_connection()\n",
    "        cursor = conn.cursor()\n",
    "        cursor.execute(\n",
    "            \"INSERT INTO search_history (username, search_keyword, search_date, period) VALUES (%s, %s, %s, %s)\",\n",
    "            (username, company_name, search_date, period)\n",
    "        )\n",
    "        conn.commit()\n",
    "        cursor.close()\n",
    "        conn.close()\n",
    "        return 'History saved', 200\n",
    "    else:\n",
    "        return 'User not logged in', 403"
   ]
  },
  {
   "cell_type": "code",
   "execution_count": 9,
   "metadata": {},
   "outputs": [],
   "source": [
    "# Obtain stock data from yahoo finance \n",
    "import yfinance as yf\n",
    "\n",
    "def get_stock_data(company_code, period='1'):\n",
    "    stock = yf.Ticker(company_code)\n",
    "    hist = stock.history(period=f\"{period}mo\")\n",
    "    return {\n",
    "        \"company\": company_code,\n",
    "        \"current_price\": f\"${round(float(hist.iloc[-1]['Close']),2)}\",\n",
    "        \"high_price\": f\"${round(float(hist['High'].max()),2)}\",\n",
    "        \"low_price\": f\"${round(float(hist['Low'].min()),2)}\",\n",
    "        \"open_price\": f\"${round(float(hist.iloc[0]['Open']),2)}\",\n",
    "        \"volume\": int(hist['Volume'].sum()),\n",
    "        \"dividends\": round(float(hist['Dividends'].sum()),2)\n",
    "    }\n",
    "\n",
    "@app.route('/get_stock_data')\n",
    "def fetch_stock_data():\n",
    "    company_code = request.args.get('company_code','AAPL')\n",
    "    period = request.args.get('period', '1')\n",
    "    print(company_code)\n",
    "    print(period)\n",
    "\n",
    "    data = get_stock_data(company_code, period)\n",
    "    return jsonify(data)"
   ]
  },
  {
   "cell_type": "code",
   "execution_count": 10,
   "metadata": {},
   "outputs": [],
   "source": [
    "# Packages\n",
    "import matplotlib.pyplot as plt\n",
    "from flask import send_file\n",
    "from io import BytesIO\n",
    "import yfinance as yf\n",
    "\n",
    "@app.route('/plot_stock/<string:stock_code>/<int:period>')\n",
    "def plot_stock(stock_code, period):\n",
    "    # Fetching the complete DataFrame just for plotting\n",
    "    stock = yf.Ticker(stock_code)\n",
    "    hist = stock.history(period=f\"{period}mo\")\n",
    "\n",
    "# plot the data\n",
    "    if 'Close' not in hist.columns:\n",
    "        return \"Error: 'Close' column not found in the data\", 400\n",
    "\n",
    "    plt.figure(figsize=(10, 5))\n",
    "    plt.plot(hist.index, hist['Close'], label='Close Price')  \n",
    "    plt.title(f'{stock_code.upper()} Stock Closing Prices Over {period} Month(s)')\n",
    "    plt.xlabel('Date')\n",
    "    plt.ylabel('Price')\n",
    "    plt.grid(True)\n",
    "    plt.legend()\n",
    "\n",
    "    img = BytesIO()\n",
    "    plt.savefig(img, format='png')\n",
    "    plt.close()\n",
    "    img.seek(0)\n",
    "\n",
    "    return send_file(img, mimetype='image/png')"
   ]
  },
  {
   "cell_type": "code",
   "execution_count": null,
   "metadata": {},
   "outputs": [
    {
     "name": "stdout",
     "output_type": "stream",
     "text": [
      " * Serving Flask app '__main__'\n",
      " * Debug mode: off\n"
     ]
    },
    {
     "name": "stderr",
     "output_type": "stream",
     "text": [
      "WARNING: This is a development server. Do not use it in a production deployment. Use a production WSGI server instead.\n",
      " * Running on http://localhost:5006\n",
      "Press CTRL+C to quit\n",
      "127.0.0.1 - - [25/Apr/2024 16:46:39] \"GET / HTTP/1.1\" 200 -\n",
      "127.0.0.1 - - [25/Apr/2024 16:46:39] \"GET /static/css/styles.css HTTP/1.1\" 304 -\n",
      "127.0.0.1 - - [25/Apr/2024 16:46:39] \"GET /static/js/script.js HTTP/1.1\" 304 -\n",
      "127.0.0.1 - - [25/Apr/2024 16:46:41] \"GET /login HTTP/1.1\" 200 -\n",
      "127.0.0.1 - - [25/Apr/2024 16:46:41] \"GET /static/css/styles.css HTTP/1.1\" 304 -\n",
      "127.0.0.1 - - [25/Apr/2024 16:46:41] \"GET /static/js/script_login.js HTTP/1.1\" 304 -\n",
      "127.0.0.1 - - [25/Apr/2024 16:46:42] \"GET /search HTTP/1.1\" 200 -\n",
      "127.0.0.1 - - [25/Apr/2024 16:46:42] \"GET /static/css/styles.css HTTP/1.1\" 304 -\n",
      "127.0.0.1 - - [25/Apr/2024 16:46:42] \"GET /static/js/script.js HTTP/1.1\" 304 -\n",
      "127.0.0.1 - - [25/Apr/2024 16:46:46] \"GET /search HTTP/1.1\" 200 -\n",
      "127.0.0.1 - - [25/Apr/2024 16:46:47] \"GET /static/css/styles.css HTTP/1.1\" 304 -\n",
      "127.0.0.1 - - [25/Apr/2024 16:46:47] \"GET /static/js/script.js HTTP/1.1\" 304 -\n",
      "127.0.0.1 - - [25/Apr/2024 16:46:50] \"GET /login HTTP/1.1\" 200 -\n",
      "127.0.0.1 - - [25/Apr/2024 16:46:50] \"GET /static/js/script_login.js HTTP/1.1\" 304 -\n",
      "127.0.0.1 - - [25/Apr/2024 16:46:50] \"GET /static/css/styles.css HTTP/1.1\" 304 -\n",
      "127.0.0.1 - - [25/Apr/2024 16:46:57] \"POST /login HTTP/1.1\" 200 -\n",
      "127.0.0.1 - - [25/Apr/2024 16:46:57] \"GET /search HTTP/1.1\" 200 -\n",
      "127.0.0.1 - - [25/Apr/2024 16:46:57] \"GET /static/css/styles.css HTTP/1.1\" 304 -\n",
      "127.0.0.1 - - [25/Apr/2024 16:46:57] \"GET /static/js/script.js HTTP/1.1\" 304 -\n"
     ]
    },
    {
     "name": "stdout",
     "output_type": "stream",
     "text": [
      "Chenyu Mao\n",
      "2\n"
     ]
    },
    {
     "name": "stderr",
     "output_type": "stream",
     "text": [
      "127.0.0.1 - - [25/Apr/2024 16:47:07] \"GET /login HTTP/1.1\" 200 -\n",
      "127.0.0.1 - - [25/Apr/2024 16:47:07] \"GET /static/js/script_login.js HTTP/1.1\" 304 -\n",
      "127.0.0.1 - - [25/Apr/2024 16:47:07] \"GET /static/css/styles.css HTTP/1.1\" 304 -\n",
      "127.0.0.1 - - [25/Apr/2024 16:47:38] \"POST /login HTTP/1.1\" 404 -\n"
     ]
    },
    {
     "name": "stdout",
     "output_type": "stream",
     "text": [
      "123\n"
     ]
    },
    {
     "name": "stderr",
     "output_type": "stream",
     "text": [
      "127.0.0.1 - - [25/Apr/2024 16:47:50] \"POST /login HTTP/1.1\" 200 -\n",
      "127.0.0.1 - - [25/Apr/2024 16:47:50] \"GET /search HTTP/1.1\" 200 -\n",
      "127.0.0.1 - - [25/Apr/2024 16:47:50] \"GET /static/css/styles.css HTTP/1.1\" 304 -\n",
      "127.0.0.1 - - [25/Apr/2024 16:47:50] \"GET /static/js/script.js HTTP/1.1\" 304 -\n"
     ]
    },
    {
     "name": "stdout",
     "output_type": "stream",
     "text": [
      "Chenyu Mao\n",
      "2\n"
     ]
    },
    {
     "name": "stderr",
     "output_type": "stream",
     "text": [
      "127.0.0.1 - - [25/Apr/2024 16:48:12] \"POST /save_search_history HTTP/1.1\" 200 -\n",
      "127.0.0.1 - - [25/Apr/2024 16:48:13] \"POST /filter_news_by_publisher HTTP/1.1\" 200 -\n",
      "127.0.0.1 - - [25/Apr/2024 16:49:04] \"GET /login HTTP/1.1\" 200 -\n",
      "127.0.0.1 - - [25/Apr/2024 16:49:04] \"GET /static/css/styles.css HTTP/1.1\" 304 -\n",
      "127.0.0.1 - - [25/Apr/2024 16:49:04] \"GET /static/js/script_login.js HTTP/1.1\" 304 -\n",
      "127.0.0.1 - - [25/Apr/2024 16:49:36] \"POST /login HTTP/1.1\" 404 -\n"
     ]
    },
    {
     "name": "stdout",
     "output_type": "stream",
     "text": [
      "123139\n"
     ]
    },
    {
     "name": "stderr",
     "output_type": "stream",
     "text": [
      "127.0.0.1 - - [25/Apr/2024 16:49:48] \"POST /login HTTP/1.1\" 200 -\n",
      "127.0.0.1 - - [25/Apr/2024 16:49:48] \"GET /search HTTP/1.1\" 200 -\n",
      "127.0.0.1 - - [25/Apr/2024 16:49:49] \"GET /static/css/styles.css HTTP/1.1\" 304 -\n",
      "127.0.0.1 - - [25/Apr/2024 16:49:49] \"GET /static/js/script.js HTTP/1.1\" 304 -\n"
     ]
    },
    {
     "name": "stdout",
     "output_type": "stream",
     "text": [
      "Chenyu Mao\n",
      "2\n"
     ]
    },
    {
     "name": "stderr",
     "output_type": "stream",
     "text": [
      "127.0.0.1 - - [25/Apr/2024 16:50:00] \"POST /save_search_history HTTP/1.1\" 200 -\n",
      "127.0.0.1 - - [25/Apr/2024 16:50:01] \"POST /filter_news_by_publisher HTTP/1.1\" 200 -\n",
      "127.0.0.1 - - [25/Apr/2024 16:50:28] \"POST /filter_news_by_publisher HTTP/1.1\" 200 -\n",
      "127.0.0.1 - - [25/Apr/2024 16:50:29] \"POST /filter_news_by_publisher HTTP/1.1\" 200 -\n",
      "127.0.0.1 - - [25/Apr/2024 16:50:31] \"POST /filter_news_by_publisher HTTP/1.1\" 200 -\n",
      "127.0.0.1 - - [25/Apr/2024 16:50:33] \"POST /filter_news_by_publisher HTTP/1.1\" 200 -\n",
      "127.0.0.1 - - [25/Apr/2024 16:50:35] \"POST /filter_news_by_publisher HTTP/1.1\" 200 -\n",
      "127.0.0.1 - - [25/Apr/2024 16:50:36] \"POST /filter_news_by_publisher HTTP/1.1\" 200 -\n",
      "127.0.0.1 - - [25/Apr/2024 16:50:42] \"POST /filter_news_by_publisher HTTP/1.1\" 200 -\n",
      "127.0.0.1 - - [25/Apr/2024 16:50:51] \"POST /filter_news_by_publisher HTTP/1.1\" 200 -\n",
      "127.0.0.1 - - [25/Apr/2024 16:51:03] \"GET /info HTTP/1.1\" 200 -\n",
      "127.0.0.1 - - [25/Apr/2024 16:51:03] \"GET /static/css/styles.css HTTP/1.1\" 304 -\n",
      "127.0.0.1 - - [25/Apr/2024 16:51:03] \"GET /static/js/script_info.js HTTP/1.1\" 304 -\n"
     ]
    },
    {
     "name": "stdout",
     "output_type": "stream",
     "text": [
      "AAPL\n",
      "1\n"
     ]
    },
    {
     "name": "stderr",
     "output_type": "stream",
     "text": [
      "127.0.0.1 - - [25/Apr/2024 16:51:38] \"GET /get_stock_data?company_code=AAPL&period=1 HTTP/1.1\" 200 -\n",
      "127.0.0.1 - - [25/Apr/2024 16:51:39] \"GET /plot_stock/AAPL/1 HTTP/1.1\" 200 -\n",
      "127.0.0.1 - - [25/Apr/2024 16:52:04] \"GET /search HTTP/1.1\" 200 -\n",
      "127.0.0.1 - - [25/Apr/2024 16:52:04] \"GET /static/css/styles.css HTTP/1.1\" 304 -\n",
      "127.0.0.1 - - [25/Apr/2024 16:52:04] \"GET /static/js/script.js HTTP/1.1\" 304 -\n"
     ]
    }
   ],
   "source": [
    "app.run(host='localhost', port=5006)"
   ]
  },
  {
   "cell_type": "code",
   "execution_count": null,
   "metadata": {},
   "outputs": [],
   "source": []
  }
 ],
 "metadata": {
  "kernelspec": {
   "display_name": "Python 3 (ipykernel)",
   "language": "python",
   "name": "python3"
  },
  "language_info": {
   "codemirror_mode": {
    "name": "ipython",
    "version": 3
   },
   "file_extension": ".py",
   "mimetype": "text/x-python",
   "name": "python",
   "nbconvert_exporter": "python",
   "pygments_lexer": "ipython3",
   "version": "3.11.5"
  }
 },
 "nbformat": 4,
 "nbformat_minor": 4
}
